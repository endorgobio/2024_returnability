{
  "cells": [
    {
      "cell_type": "markdown",
      "metadata": {
        "id": "view-in-github",
        "colab_type": "text"
      },
      "source": [
        "<a href=\"https://colab.research.google.com/github/endorgobio/2024_returnability/blob/main/20241011_Modelo_concreto_Gurobi_Pablo.ipynb\" target=\"_parent\"><img src=\"https://colab.research.google.com/assets/colab-badge.svg\" alt=\"Open In Colab\"/></a>"
      ]
    },
    {
      "cell_type": "markdown",
      "metadata": {
        "id": "4ExV5dWmzaXO"
      },
      "source": [
        "# <font color='056938'> **Cargar librerias y paquetes** </font>"
      ]
    },
    {
      "cell_type": "code",
      "execution_count": null,
      "metadata": {
        "id": "PeZ2_ajZ2vOu"
      },
      "outputs": [],
      "source": [
        "!pip install gurobipy\n",
        "!pip install gurobipy_pandas\n",
        "!pip install requests\n",
        "import requests, json\n",
        "import numpy as np\n",
        "import pandas as pd\n",
        "import re\n",
        "import math\n",
        "import gurobipy as gp\n",
        "from gurobipy import GRB\n",
        "import gurobipy_pandas as gpd\n",
        "import os"
      ]
    },
    {
      "cell_type": "markdown",
      "metadata": {
        "id": "YfUgce5bwa5W"
      },
      "source": [
        "Carga el modulo con todas las funciones que creamos para generar la instancia"
      ]
    },
    {
      "cell_type": "code",
      "execution_count": null,
      "metadata": {
        "id": "ryYMvPjHiPnf"
      },
      "outputs": [],
      "source": [
        "# url of the Python module utilities\n",
        "url = 'https://raw.githubusercontent.com/endorgobio/2024_returnability/refs/heads/main/utilities.py'\n",
        "response = requests.get(url) #Download the module from the URL\n",
        "\n",
        "# Save the module locally in Colab\n",
        "with open('utils.py', 'wb') as f:\n",
        "    f.write(response.content)\n",
        "\n",
        "import utils # import the module\n"
      ]
    },
    {
      "cell_type": "markdown",
      "metadata": {
        "id": "70DOa8YFzjKr"
      },
      "source": [
        "# <font color='056938'> **Descripción del problema** </font>"
      ]
    },
    {
      "cell_type": "markdown",
      "metadata": {
        "id": "KP_JsPdTzzM0"
      },
      "source": [
        "# <font color='056938'> **Modelación** </font>"
      ]
    },
    {
      "cell_type": "markdown",
      "metadata": {
        "id": "TFHpUkNwh5mX"
      },
      "source": [
        "# <font color='056938'> **Implementación** </font>\n",
        "\n",
        "\n",
        "Este notebook implementa en `gurobipy` este [modelo](https://drive.google.com/file/d/157MOs8L0B9B8zzu7aKABhcqFv1hq9Chp/view?usp=sharing) que estaba implementado en `pyomo`\n",
        "\n",
        "La implementación usa las funciones descritas en [este notebook](https://drive.google.com/file/d/1ZGDer4HogMadqSBqyzykE8JiQ1upX50S/view?usp=sharing) y que se cargaron a través de el modulo `utils`\n",
        "\n"
      ]
    },
    {
      "cell_type": "markdown",
      "metadata": {
        "id": "t5I_v3Km0DFc"
      },
      "source": [
        "## <font color='8EC044'> **Generar  instancia** </font>\n",
        "\n",
        "Se definen los parámetros y se usa la función cargada desde el modulo utils para generar la instancia\n",
        "\n"
      ]
    },
    {
      "cell_type": "markdown",
      "metadata": {
        "id": "aatgar-WrIG0"
      },
      "source": [
        "\n",
        "### <font color='46B8A9'> **Parámetros de entrada** </font>\n",
        "\n",
        "Se leen los archivos de las localizaciones y las distancias y despues se crea un diccionario  de  parámetros (parameters) con todos los valores de entrada\n"
      ]
    },
    {
      "cell_type": "markdown",
      "metadata": {
        "id": "-y4LrEstRE48"
      },
      "source": [
        "#### <font color='260656'> **Leer archivos base** </font>"
      ]
    },
    {
      "cell_type": "markdown",
      "metadata": {
        "id": "cQHXcgj5rIG2"
      },
      "source": [
        "Leer archivos base de localizaciones y distancias"
      ]
    },
    {
      "cell_type": "code",
      "execution_count": null,
      "metadata": {
        "id": "PjphLSodrIG2"
      },
      "outputs": [],
      "source": [
        "df_coord = pd.read_csv('https://docs.google.com/uc?export=download&id=14K0eAyrJlAkjvJ9OZMk7qy_dS0RyUSgl') # coordenadas\n",
        "df_dist = pd.read_csv('https://docs.google.com/uc?export=download&id=15WHvGj0gg42q-rJPURlCBSOlSMoNGuzL') # distancias\n",
        "df_demand = pd.read_csv('https://docs.google.com/uc?export=download&id=1w0PMK36H4Aq39SAaJ8eXRU2vzHMjlWGe') # demandas escenario base\n"
      ]
    },
    {
      "cell_type": "markdown",
      "metadata": {
        "id": "LDSlXWvkoHvS"
      },
      "source": [
        "#### <font color='260656'> **Definir parámetros** </font>"
      ]
    },
    {
      "cell_type": "code",
      "execution_count": null,
      "metadata": {
        "id": "LXFDtCdsiEhv"
      },
      "outputs": [],
      "source": [
        "# Define the parameters in a flat dictionary\n",
        "parameters = {\n",
        "    # Basic parameters\n",
        "    \"n_acopios\": 10,               # maximum 344\n",
        "    \"n_centros\": 5,                # maximum 5\n",
        "    \"n_plantas\": 3,                # maximum 3\n",
        "    \"n_productores\": 5,            # maximum 5\n",
        "    \"n_envases\": 3,\n",
        "    \"n_periodos\": 5,\n",
        "\n",
        "    # Technical parameters\n",
        "    \"ccv\": 337610,  #130*2597                  # Classification capacity of the valorization centers\n",
        "    \"acv\": 418117, # 161*2597                    # Storage capacity of the valorization centers\n",
        "    \"lpl\": 168805, # 65*2597                     # Washing capacity of the washing plants\n",
        "    \"apl\": 623280, #240*2597                    # Storage capacity of the washing plants\n",
        "    \"ta\": 1, # 0.95,                    # Approval rate in valorization centers\n",
        "    \"tl\": 1, # 0.90,                     # Approval rate in washing plants\n",
        "\n",
        "    # Cost parameters\n",
        "    \"arr_cv\": 5100000,            # Rental cost of valorization centers\n",
        "    \"arr_pl\": 7000000,            # Rental cost of washing plants\n",
        "    \"renta_increm\": 0.0069,        # Annual rent increase\n",
        "    \"ade_cv\": 20000000,           # Adaptation cost of valorization centers\n",
        "    \"ade_pl\": 45000000,           # Adaptation cost of washing plants\n",
        "    \"adecua_increm\": 0.0069,       # Annual adaptation cost increase\n",
        "    \"qc\": 140, # 363580/2597,                  # Classification and inspection cost\n",
        "    \"qt\": 0.81, # 2120/2597,                    # Crushing cost\n",
        "    \"ql\": 210, # 545370/2597,                  # Washing cost\n",
        "    \"qb\": 140, # 363580/2597,                  # Laboratory test cost\n",
        "    \"qa\": 140, # 363580/2597,                  # Transportation cost\n",
        "    \"cinv\": 12.20, # 31678/2597,                 # Inventory cost of valorization centers\n",
        "    \"pinv\": 11.20, # 29167/2597,                 # Inventory cost of washing plants\n",
        "\n",
        "    # Environmental parameters\n",
        "    \"em\": 0.0008736,               # CO2 emissions in kilometers\n",
        "    \"el\": 0.002597,                # CO2 emissions in the washing process\n",
        "    \"et\": 0.001096,                # CO2 emissions in the crushing process\n",
        "    \"en\": 820.65,                 # CO2 emissions in the production of new containers\n",
        "\n",
        "    # Contextual parameters\n",
        "    \"wa\": 0.01,                    # WACC\n",
        "    \"recup_increm\": 0, # 0.0025,        # Recovery rate increase\n",
        "    \"enr\": 1039.66, # 2700000,                # Price of returnable container\n",
        "    \"tri\": 200, # 300000,                 # Price of crushed container\n",
        "    \"adem\": 0.01,                  # Demand increase\n",
        "    \"recup\": 1, # 0.89,                 # Recovery rate\n",
        "    \"envn\": 1250, # 3246250,               # Price of new containers\n",
        "    \"dep\": 70, # 181790,                 # Deposit cost\n",
        "    \"n_pack_prod\": 2,              # maximum number of containers that use each producer\n",
        "    \"dem_interval\": [1000, 2000],     # interval in which the demand lies\n",
        "\n",
        "    # Dataframes\n",
        "    'df_coord': df_coord, # coordenadas\n",
        "    'df_dist': df_dist, # distancias\n",
        "    'df_demand': df_demand, # demandas escenario base\n",
        "\n",
        "    # Optional = None\n",
        "    'type_distance' : 'distance_geo',\n",
        "    'initial_demand': None,\n",
        "}"
      ]
    },
    {
      "cell_type": "markdown",
      "metadata": {
        "id": "lmh7CE6XsdVZ"
      },
      "source": [
        "### <font color='46B8A9'> **invocar función `create_instance()` del modulo `utils`** </font>"
      ]
    },
    {
      "cell_type": "markdown",
      "metadata": {
        "id": "KCJCGPpQuXfP"
      },
      "source": [
        "invocamos la función `create_instance()` que hace parte del modulo `utils` que cargamos al inicio del notebook"
      ]
    },
    {
      "cell_type": "code",
      "execution_count": null,
      "metadata": {
        "id": "hHwv4TQOsnjc"
      },
      "outputs": [],
      "source": [
        "instance = utils.create_instance(parameters)"
      ]
    },
    {
      "cell_type": "markdown",
      "metadata": {
        "id": "Ui_i6lSEyD3z"
      },
      "source": [
        "Para correr el caso base con las demandas calculadas y no las generadas aleatoriamente, debes agregar el parametro `initial_demand` al llamado de la función, así:\n"
      ]
    },
    {
      "cell_type": "markdown",
      "metadata": {
        "id": "jo4JiO3AyUQk"
      },
      "source": [
        "1. Lees las demandas del esecanrio base"
      ]
    },
    {
      "cell_type": "code",
      "execution_count": null,
      "metadata": {
        "id": "_QKpnjR8yeHF"
      },
      "outputs": [],
      "source": [
        "initial_demand =  utils.read_dem_initial(df_demand)\n",
        "initial_demand"
      ]
    },
    {
      "cell_type": "markdown",
      "metadata": {
        "id": "IHJy6bd3ykvN"
      },
      "source": [
        "2. Modificas los parámetros que se requiera en los datos del directorio `parameters`.\n",
        "\n",
        "\n",
        "```python\n",
        "parameters[n_acopios] = 344\n",
        "parameters[n_centros] = 5\n",
        "parameters[n_plantas] = 3\n",
        "parameters[n_producer] = 5\n",
        "parameters[n_envases] = 3\n",
        "parameters[initial_demand] = initial_demand\n",
        "\n",
        "```\n",
        "\n"
      ]
    },
    {
      "cell_type": "markdown",
      "metadata": {
        "id": "H-RVdkDWsUxa"
      },
      "source": [
        "3. Creas nuevamente la instancia\n",
        "\n",
        "\n",
        "\n",
        "```python\n",
        "instance = utils.create_instance(parameters)\n",
        "```\n",
        "\n"
      ]
    },
    {
      "cell_type": "markdown",
      "metadata": {
        "id": "Ws64K_pMxy0c"
      },
      "source": [
        "## <font color='8EC044'> **Crear modelo** </font>"
      ]
    },
    {
      "cell_type": "code",
      "execution_count": null,
      "metadata": {
        "id": "bEYACKupzaai"
      },
      "outputs": [],
      "source": [
        "# Función que crea el modelo\n",
        "\n",
        "def create_model(instance,\n",
        "                 model_integer = False # when True the model considers integer variables (False by default)\n",
        "                 ):\n",
        "\n",
        "  # read instance data\n",
        "  n_acopios = instance['n_acopios']\n",
        "  n_centros = instance['n_centros']\n",
        "  n_plantas = instance['n_plantas']\n",
        "  n_productores = instance['n_productores']\n",
        "  n_envases = instance['n_envases']\n",
        "  n_periodos = instance['n_periodos']\n",
        "  renta_increm = instance['renta_increm']\n",
        "  adecua_increm = instance['adecua_increm']\n",
        "  qc = instance['qc']\n",
        "  qt = instance['qt']\n",
        "  ql = instance['ql']\n",
        "  qb = instance['qb']\n",
        "  ta = instance['ta']\n",
        "  tl = instance['tl']\n",
        "  qa = instance['qa']\n",
        "  wa = instance['wa']\n",
        "  em = instance['em']\n",
        "  el = instance['el']\n",
        "  et = instance['et']\n",
        "  en = instance['en']\n",
        "  recup_increm = instance['recup_increm']\n",
        "  ccv = instance['ccv']\n",
        "  acv = instance['acv']\n",
        "  lpl = instance['lpl']\n",
        "  apl = instance['apl']\n",
        "  # dimdist = instance['dimdist']\n",
        "  arr_cv = instance['arr_cv']\n",
        "  arr_pl = instance['arr_pl']\n",
        "  ade_cv = instance['ade_cv']\n",
        "  ade_pl = instance['ade_pl']\n",
        "  dep = instance['dep']\n",
        "  enr = instance['enr']\n",
        "  tri = instance['tri']\n",
        "  adem = instance['adem']\n",
        "  # demanda = instance['demanda']\n",
        "  recup = instance['recup']\n",
        "  cinv = instance['cinv']\n",
        "  pinv = instance['pinv']\n",
        "  envn = instance['envn']\n",
        "\n",
        "\n",
        "  # Assign sets and other generated variables from the dictionary\n",
        "  acopios = instance['acopios']\n",
        "  centros = instance['centros']\n",
        "  plantas = instance['plantas']\n",
        "  productores = instance['productores']\n",
        "  envases = instance['envases']\n",
        "  periodos = instance['periodos']\n",
        "\n",
        "  # Assign parameters and calculations from the dictionary\n",
        "  cc = instance['cc']\n",
        "  ca = instance['ca']\n",
        "  cp = instance['cp']\n",
        "  cl = instance['cl']\n",
        "  # coord_acopios = instance['coord_acopios']\n",
        "  # coord_centros = instance['coord_centros']\n",
        "  # coord_plantas = instance['coord_plantas']\n",
        "  # coord_productores = instance['coord_productores']\n",
        "  da = instance['da']\n",
        "  dl = instance['dl']\n",
        "  dp = instance['dp']\n",
        "  rv = instance['rv']\n",
        "  rl = instance['rl']\n",
        "  av = instance['av']\n",
        "  al = instance['al']\n",
        "  qd = instance['qd']\n",
        "  pv = instance['pv']\n",
        "  pt = instance['pt']\n",
        "  b = instance['b']\n",
        "  # env_pdtor = instance['env_pdtor']\n",
        "  dem = instance['dem']\n",
        "  de = instance['de']\n",
        "  gi = instance['gi']\n",
        "  ge = instance['ge']\n",
        "  iv = instance['iv']\n",
        "  il = instance['il']\n",
        "  ci = instance['ci']\n",
        "  cv = instance['cv']\n",
        "  pe = instance['pe']\n",
        "  a = instance['a']\n",
        "\n",
        "\n",
        "  model = gp.Model('CircularEconomy')\n",
        "\n",
        "\n",
        "  # Define variables\n",
        "  x = model.addVars(centros, periodos, vtype=GRB.BINARY, name=\"x\")\n",
        "  y = model.addVars(centros, periodos, vtype=GRB.BINARY, name=\"y\")\n",
        "  z = model.addVars(plantas, periodos, vtype=GRB.BINARY, name=\"z\")\n",
        "  w = model.addVars(plantas, periodos, vtype=GRB.BINARY, name=\"w\")\n",
        "\n",
        "\n",
        "  if model_integer:\n",
        "    q = model.addVars(envases, acopios, centros, periodos, vtype=GRB.INTEGER, name=\"q\")\n",
        "    r = model.addVars(envases, centros, plantas, periodos, vtype=GRB.INTEGER, name=\"r\")\n",
        "    combinations_u = [(p,k,l,t) for p,l,t in de.keys() for k in plantas]\n",
        "    u = model.addVars(combinations_u, vtype=GRB.INTEGER, name=\"u\")\n",
        "    ic = model.addVars(envases, centros, periodos, vtype=GRB.INTEGER, name=\"ic\")\n",
        "    ip = model.addVars(envases, plantas, periodos, vtype=GRB.INTEGER, name=\"ip\")\n",
        "    combinations_er = [(p,l,t) for p,l,t in de.keys()]\n",
        "    er = model.addVars(combinations_er, vtype=GRB.INTEGER, name=\"er\")\n",
        "  else:\n",
        "    q = model.addVars(envases, acopios, centros, periodos, vtype=GRB.CONTINUOUS, name=\"q\")\n",
        "    r = model.addVars(envases, centros, plantas, periodos, vtype=GRB.CONTINUOUS, name=\"r\")\n",
        "    combinations_u = [(p,k,l,t) for p,l,t in de.keys() for k in plantas]\n",
        "    u = model.addVars(combinations_u, vtype=GRB.CONTINUOUS, name=\"u\")\n",
        "    ic = model.addVars(envases, centros, periodos, vtype=GRB.CONTINUOUS, name=\"ic\")\n",
        "    ip = model.addVars(envases, plantas, periodos, vtype=GRB.CONTINUOUS, name=\"ip\")\n",
        "    combinations_er = [(p,l,t) for p,l,t in de.keys()]\n",
        "    # er = model.addVars(combinations_er, vtype=GRB.CONTINUOUS, name=\"er\")\n",
        "\n",
        "\n",
        "  ## FUNCIÓN OBJETIVO\n",
        "  # Componentes función objetivo\n",
        "  model._ingreso_retornable = sum(u[p,k,l,t] * pv[p] for p in envases for k in plantas for l in productores for t in periodos if (p,k,l,t) in combinations_u)\n",
        "\n",
        "  model._ingreso_triturado = (sum(r[p,j,k,t] * (1 - ta) / ta * pt[p] for p in envases for j in centros for k in plantas for t in periodos) +\\\n",
        "                              sum(u[p,k,l,t] * (1 - tl) / tl * pt[p] for p in envases for k in plantas for l in productores for t in\n",
        "                              periodos if (p,k,l,t) in combinations_u))\n",
        "\n",
        "  # model._egreso_envnuevo = sum(er[p,l,t] * pe[p] for p in envases for l in productores for t in periodos if (p,l,t) in combinations_er)\n",
        "\n",
        "  model._egreso_adecuar = sum(y[j,t]*av[j,t] for j in centros for t in periodos) + sum(w[k,t]*al[k,t] for k in plantas for t in periodos)\n",
        "\n",
        "  model._egreso_uso = sum(x[j,t]*rv[j,t] for j in centros for t in periodos) + sum(z[k,t]*rl[k,t] for k in plantas for t in periodos)\n",
        "\n",
        "  model._egreso_transporte = sum(q[p,i,j,t]*qa*da[i,j] for p in envases for i in acopios for j in centros for t in periodos) +\\\n",
        "                      sum(r[p,j,k,t]*qa*dl[j,k] for p in envases for j in centros for k in plantas for t in periodos) +\\\n",
        "                      sum(u[p,k,l,t]*qa*dp[k,l] for p in envases for k in plantas for l in productores for t in periodos if (p,k,l,t) in combinations_u)\n",
        "\n",
        "  model._egreso_compra = sum(q[p,i,j,t]*qd[p] for p in envases for i in acopios for j in centros for t in periodos) #depósito\n",
        "\n",
        "  model._egreso_inspeccion = sum((r[p,j,k,t]/ta)*qc for p in envases for j in centros for k in plantas for t in periodos) +\\\n",
        "                              sum((u[p,k,l,t]/tl)*qc for p in envases for k in plantas for l in productores for t in periodos if (p,k,l,t) in combinations_u)\n",
        "\n",
        "  model._egreso_lavado = sum((u[p,k,l,t]/tl)*ql for p in envases for k in plantas for l in productores for t in periodos if (p,k,l,t) in combinations_u)\n",
        "\n",
        "  model._egreso_pruebas = sum(u[p,k,l,t]*qb for p in envases for k in plantas for l in productores for t in periodos if (p,k,l,t) in combinations_u)\n",
        "\n",
        "  model._egreso_trituracion = (sum(r[p,j,k,t] * (1 - ta)/ ta * qt for p in envases for j in centros for k in plantas for t in periodos) +\\\n",
        "                               sum(u[p,k,l,t] * (1 - tl)/ tl * qt for p in envases for k in plantas for l in productores\n",
        "                               for t in periodos if (p,k,l,t) in combinations_u))\n",
        "\n",
        "  model._egreso_invcentros= sum(ic[p,j,t]*ci[j] for p in envases for j in centros for t in periodos)\n",
        "\n",
        "  model._egreso_invplantas = sum(ip[p,k,t]*cv[k] for p in envases for k in plantas for t in periodos)\n",
        "\n",
        "  model._emisiones_transporte = (sum(da[i,j]*q[p,i,j,t] for p in envases for i in acopios for j in centros for t in periodos) + \\\n",
        "                          sum(dl[j,k]*r[p,j,k,t] for p in envases for j in centros for k in plantas for t in periodos) + \\\n",
        "                          sum(dp[k,l]*u[p,k,l,t] for p in envases for k in plantas for l in productores for t in periodos if (p,k,l,t) in combinations_u))*em\n",
        "\n",
        "  model._emisiones_lavado = sum((u[p,k,l,t]/tl)*el for p in envases for k in plantas for l in productores for t in periodos if (p,k,l,t) in combinations_u)\n",
        "\n",
        "  model._emisiones_trituracion = (sum(r[p,j,k,t] * (1 - ta) / ta * et for p in envases for j in centros for k in plantas for t in periodos) + \\\n",
        "                                  sum(u[p,k,l,t] * (1 - tl) / tl * et for p in envases for k in plantas for l in productores\n",
        "                                  for t in periodos if (p,k,l,t) in combinations_u))\n",
        "\n",
        "  # model._emisiones_envnuevo = (sum(er[p,l,t]*en for p in envases for l in productores for t in periodos if (p,l,t) in combinations_er))\n",
        "\n",
        "  # Agregar objetivo\n",
        "  # funcion_objetivo = model._ingreso_retornable + model._ingreso_triturado - model._egreso_adecuar  - model._egreso_uso - model._egreso_envnuevo -\\\n",
        "  #             model._egreso_transporte - model._egreso_compra - model._egreso_inspeccion - model._egreso_lavado - model._egreso_pruebas -\\\n",
        "  #             model._egreso_trituracion - model._egreso_invcentros - model._egreso_invplantas\n",
        "\n",
        "  funcion_objetivo = model._ingreso_retornable + model._ingreso_triturado - model._egreso_adecuar  - model._egreso_uso  -\\\n",
        "              model._egreso_transporte - model._egreso_compra - model._egreso_inspeccion - model._egreso_lavado - model._egreso_pruebas -\\\n",
        "              model._egreso_trituracion - model._egreso_invcentros - model._egreso_invplantas\n",
        "\n",
        "  model.setObjective(funcion_objetivo,GRB.MAXIMIZE)\n",
        "\n",
        "  # Restriccion 1: Capacidad de procesamiento centro de clasificación\n",
        "  model.addConstrs((gp.quicksum(r[p,j,k,t] / ta for p in envases for k in plantas) <= cc[j] * x[j,t] for j in centros for t in periodos),\n",
        "                  name='cap_proc_centros')\n",
        "\n",
        "  # Restriccion 2: Capacidad de procesamiento plantas de lavado\n",
        "  model.addConstrs((gp.quicksum(u[p,k,l,t] / tl for p in envases for l in productores if  (p,k,l,t) in combinations_u) <= cl[k]*z[k,t]\n",
        "                   for k in plantas for t in periodos),name='cap_proc_plantas')\n",
        "\n",
        "  # Restriccion 3: Cumplimiento de demanda\n",
        "  # model.addConstrs((gp.quicksum(u[p,k,l,t] for k in plantas) + er[p,l,t] == de[p,l,t] for p in envases for l in productores\n",
        "  #                  for t in periodos if (p,l,t) in er),name='demanda')\n",
        "  model.addConstrs((gp.quicksum(u[p,k,l,t] for k in plantas) <= de[p,l,t] for p in envases for l in productores\n",
        "                   for t in periodos if (p,l,t) in de),name='demanda')\n",
        "\n",
        "  # Restriccion 4: No debe recogerse más de la generación\n",
        "  model.addConstrs((gp.quicksum(q[p,i,j,t] for j in centros) <= ge[p,i,t] for p in envases for i in acopios for t in periodos),\n",
        "                  name='no_recoger_mas_gen')\n",
        "\n",
        "  ## Adecuación y apertura centros de clasificacion\n",
        "  # Restriccion 5:\n",
        "  model.addConstrs((x[j,t] >= y[j,tp] for j in centros for t in periodos for tp in periodos if t >=tp),\n",
        "                  name='mantener_abierto_centro')\n",
        "\n",
        "  # Restriccion 6:\n",
        "  model.addConstrs((gp.quicksum(y[j,tp] for tp in range(1,t+1)) >= x[j,t] for j in centros for t in periodos),\n",
        "                  name='usar_cuando_centro')\n",
        "\n",
        "  # Restriccion 7\n",
        "  model.addConstrs((gp.quicksum(y[j,t] for t in periodos) <= 1 for j in centros),\n",
        "                  name='adecuar_centro')\n",
        "\n",
        "  ## Adecuación y apertura plantas de lavado\n",
        "  # Restriccion 8:\n",
        "  model.addConstrs((z[k,t] >= w[k,tp] for k in plantas for t in periodos for tp in periodos if t >=tp),\n",
        "                  name='mantener_abierta_planta')\n",
        "\n",
        "  # Restriccion 9\n",
        "  model.addConstrs((gp.quicksum(w[k,tp] for tp in range(1,t+1)) >= z[k,t] for k in plantas for t in periodos),\n",
        "                  name='usar_cuando_planta')\n",
        "\n",
        "  # Restriccion 10\n",
        "  model.addConstrs((gp.quicksum(w[k,t] for t in periodos) <= 1 for k in plantas),\n",
        "                  name='adecuar_planta')\n",
        "\n",
        "  # Restriccion 11: Inventario en centros de clasificación\n",
        "  model.addConstrs(\n",
        "      ((ic[p,j,t]==ic[p,j,t-1] + gp.quicksum(q[p,i,j,t] for i in acopios)-gp.quicksum(r[p,j,k,t]/ta for k in plantas)) if t >1\n",
        "      else (ic[p,j,t]==iv[p,j] + gp.quicksum(q[p,i,j,t] for i in acopios)-gp.quicksum(r[p,j,k,t]/ta for k in plantas))\n",
        "      for p in envases for j in centros for t in periodos ),\n",
        "      name='inv_centros')\n",
        "\n",
        "  # Restricción 12: Capacidad de almacenamiento en centros de clasificación\n",
        "  model.addConstrs((gp.quicksum(ic[p,j,t] for p in envases) <= ca[j]*x[j,t] for j in centros for t in periodos),\n",
        "                  name='cap_alm_centros')\n",
        "\n",
        "  # Restriccion 13: Inventario en plantas de lavado\n",
        "  model.addConstrs(\n",
        "      ((ip[p,k,t]==ip[p,k,t-1] + gp.quicksum(r[p,j,k,t] for j in centros)-gp.quicksum(u[p,k,l,t]/tl for l in productores if (p,k,l,t) in combinations_u)) if t >1\n",
        "      else (ip[p,k,t]==il[p,k] + gp.quicksum(r[p,j,k,t] for j in centros)-gp.quicksum(u[p,k,l,t]/tl for l in productores if (p,k,l,t) in combinations_u))\n",
        "      for p in envases for k in plantas for t in periodos ),\n",
        "      name='inv_plantas')\n",
        "\n",
        "  # Restricción 14: Capacidad de almacenamiento en plantas de lavado\n",
        "  model.addConstrs((gp.quicksum(ip[p,k,t]  for p in envases) <= cp[k]*z[k,t] for k in plantas for t in periodos),\n",
        "                  name='cap_alm_centros')\n",
        "\n",
        "  return model"
      ]
    },
    {
      "cell_type": "markdown",
      "metadata": {
        "id": "GYTEmm4_2yVk"
      },
      "source": [
        "## <font color='8EC044'> **Resolver y obtener solución** </font>"
      ]
    },
    {
      "cell_type": "code",
      "execution_count": null,
      "metadata": {
        "id": "HRioAkXIsD5i"
      },
      "outputs": [],
      "source": [
        "# Run optimization\n",
        "model = create_model(instance)\n",
        "\n",
        "# Optimize\n",
        "model.optimize()\n",
        "if model.status == GRB.OPTIMAL:\n",
        "    print(f\"Objective value: {model.ObjVal}\")\n",
        "else:\n",
        "    print(\"Optimization was not successful\")\n"
      ]
    },
    {
      "cell_type": "markdown",
      "metadata": {
        "id": "mZAe9mFmLuk7"
      },
      "source": [
        "### <font color='46B8A9'> **Obtener el valor de las variables** </font>"
      ]
    },
    {
      "cell_type": "markdown",
      "metadata": {
        "id": "X2vyt2W5L1Ar"
      },
      "source": [
        "La función `get_vars_sol`, importada en `utils`, extrae las variables de un modelo de optimización, organizándolas por grupos y creando DataFrames con sus índices y valores. Los nombres de las columnas se definen según el tipo de variable, permitiendo una representación clara de los resultados.\n"
      ]
    },
    {
      "cell_type": "code",
      "source": [
        "dict_df = utils.get_vars_sol(model)\n",
        "df_u = dict_df['u']\n",
        "df_u"
      ],
      "metadata": {
        "id": "sHpPRf1Izajx"
      },
      "execution_count": null,
      "outputs": []
    },
    {
      "cell_type": "markdown",
      "source": [
        "### <font color='46B8A9'> **Obtener los componentes de la FO** </font>\n",
        "\n",
        "La función `get_obj_components`, importada en `utils`, calcula los valores de componentes específicos de la función objetivo de un modelo, como ingresos, costos y emisiones. Retorna un diccionario que contiene tanto el valor total de la utilidad como los valores individuales de cada componente."
      ],
      "metadata": {
        "id": "J3DwDVs326bn"
      }
    },
    {
      "cell_type": "code",
      "source": [
        "utils.get_obj_components(model)"
      ],
      "metadata": {
        "id": "jvVWLvlk1VFy"
      },
      "execution_count": null,
      "outputs": []
    },
    {
      "cell_type": "markdown",
      "metadata": {
        "id": "nCQ4HnEex6Vj"
      },
      "source": [
        "# <font color='056938'> **Validación Capacidad** </font>"
      ]
    },
    {
      "cell_type": "markdown",
      "source": [
        "Consideremos el caso en el que:  \n",
        "\n",
        "* La adecuación y uso de la infraestructura es gratis\n",
        "* Todos los procesos tienen costo `0`, excepto guardar inventario\n",
        "* No hay tasas de pérdida en los proceso\n",
        "\n"
      ],
      "metadata": {
        "id": "gA4K9Je-3lr5"
      }
    },
    {
      "cell_type": "markdown",
      "source": [
        "La cantidad entregada desde las plantas de lavado a los productores deberia ser igual a la generación (e igual a la demnda en el caso en el cual la tasa de recuperación es `1`)"
      ],
      "metadata": {
        "id": "zX8QxtXPYayl"
      }
    },
    {
      "cell_type": "code",
      "source": [
        "# Set parameters\n",
        "parameters['n_periodos'] = 5 # Demand increase\n",
        "parameters[\"ta\"]= 1 # Approval rate in valorization centers\n",
        "parameters[\"tl\"]= 1 # Approval rate in washing plants\n",
        "parameters['arr_cv']= 0 #5100000   # Rental cost of valorization centers\n",
        "parameters['arr_pl']= 0 #7000000   # Rental cost of washing plants\n",
        "parameters['ade_cv']= 0 # Adaptation cost of valorization centers\n",
        "parameters['ade_pl']= 0 # Adaptation cost of washing plants\n",
        "parameters['qc']= 0 # Classification and inspection cost\n",
        "parameters['qt']= 0 # Crushing cost\n",
        "parameters['ql']= 0 # Washing cost\n",
        "parameters['qb']= 0 # Laboratory test cost\n",
        "parameters['qa']= 0 # Transportation cost\n",
        "parameters['cinv']= 1 # Inventory cost of valorization centers\n",
        "parameters['pinv']= 1 # Inventory cost of washing plants\n",
        "parameters['adem'] = 0 # Demand increase\n",
        "parameters['dep'] = 0 # Deposit cost\n",
        "parameters['dem_interval'] = [10000, 10001]    # interval in which the demand lies\n",
        "\n",
        "# cambiemos estos dos parámetros\n",
        "parameters['recup'] = 0.9 # Recovery rate\n",
        "parameters['recup_increm'] = 0.01 # Recovery rate increase\n",
        "instance = utils.create_instance(parameters, seed=42)\n",
        "\n",
        "\n",
        "# get aggregated demand\n",
        "df_demands = [[k[0], k[1], k[2], value] for k, value in instance['de'].items()]\n",
        "df_demands = pd.DataFrame(df_demands, columns=['envase', 'productor', 'periodo', 'demanda'])\n",
        "df = df_demands.groupby(['envase', 'periodo'])['demanda'].sum().reset_index()\n",
        "\n",
        "df_gen = [[k[0], k[1], k[2], value] for k, value in instance['ge'].items()]\n",
        "df_gen = pd.DataFrame(df_gen, columns=['envase', 'productor', 'periodo', 'generacion'])\n",
        "df_gen_gr = df_gen.groupby(['envase', 'periodo'])['generacion'].sum().reset_index()\n",
        "df['generacion'] = df_gen_gr['generacion']\n",
        "df['periodo'] = df['periodo'].astype(int)\n",
        "\n",
        "# Run optimization\n",
        "model = create_model(instance)\n",
        "model.optimize()\n",
        "\n",
        "# get solution\n",
        "dict_df = utils.get_vars_sol(model)\n",
        "df_u = dict_df['u']\n",
        "grouped = df_u.groupby(['envase', 'periodo'])['cantidad'].sum().reset_index()\n",
        "df[\"retorno\"] = grouped['cantidad']\n",
        "\n",
        "df"
      ],
      "metadata": {
        "id": "6_Aauw4C8c-z"
      },
      "execution_count": null,
      "outputs": []
    },
    {
      "cell_type": "markdown",
      "source": [
        "Veamoslo gráficamente"
      ],
      "metadata": {
        "id": "bgmtX8vqbkWO"
      }
    },
    {
      "cell_type": "code",
      "source": [
        "import plotly.graph_objects as go\n",
        "\n",
        "df_E = df[df['envase']=='E0']\n",
        "df_E\n",
        "\n",
        "# Create traces for each line\n",
        "trace1 = go.Scatter(x=df_E['periodo'], y=df_E['demanda'], mode='lines', name='demanda')\n",
        "trace2 = go.Scatter(x=df_E['periodo'], y=df_E['generacion'], mode='lines', name='generacion')\n",
        "trace3 = go.Scatter(x=df_E['periodo'], y=df_E['retorno'], mode='lines', name='retorno')\n",
        "\n",
        "# Create the figure with the traces\n",
        "fig = go.Figure(data=[trace1, trace2, trace3])\n",
        "\n",
        "# Customize layout\n",
        "fig.update_layout(\n",
        "    title='Different recuperation and increasing rate',\n",
        "    xaxis_title='period',\n",
        "    yaxis_title='containers',\n",
        "    legend_title='Lines',\n",
        "    template='plotly_white'\n",
        ")\n",
        "\n",
        "# Show the plot\n",
        "fig.show()"
      ],
      "metadata": {
        "id": "SiC2qhKRbmOR"
      },
      "execution_count": null,
      "outputs": []
    },
    {
      "cell_type": "markdown",
      "source": [
        "Verificar las capacidades agregadas por periodo"
      ],
      "metadata": {
        "id": "mGOg-0cQUFzp"
      }
    },
    {
      "cell_type": "code",
      "source": [
        "# get cummulative\n",
        "grouped = df_demands.groupby(['periodo'])['demanda'].sum().reset_index()\n",
        "grouped['class_cap'] = instance['ccv']\n",
        "grouped['storage_class'] = instance['acv']\n",
        "grouped['washing_cap'] = instance['lpl']\n",
        "grouped['storage_wash'] = instance['apl']\n",
        "grouped"
      ],
      "metadata": {
        "id": "YKUK612TUSyJ"
      },
      "execution_count": null,
      "outputs": []
    },
    {
      "cell_type": "markdown",
      "metadata": {
        "id": "ZECzbe3szjF7"
      },
      "source": [
        "## <font color='8EC044'> **Múltiples corridas** </font>\n",
        "\n",
        "Consideremos el caso en el que deseamos correr el modelo con diferentes números de acopios (`n_acopios`). Asumiendo que partimos del conjunto inicial de parámetros que ya habiamos definido, debemos:\n",
        "\n",
        "* Crear un ciclo que vaya cambiando el valor de el parámetro `n_acopios` en el diccionario `parameters`\n",
        "* En cada iteración del ciclo una vez cambiamos el parámetro, debemos volver a crear la instancia con la funcipon `create_instance()`\n",
        "* En cada iteración resolvemos el modelo y guardamos los resultados que deseemos\n",
        "\n",
        "\n",
        "\n"
      ]
    },
    {
      "cell_type": "code",
      "execution_count": null,
      "metadata": {
        "id": "S1GiUZusz1wB"
      },
      "outputs": [],
      "source": [
        "experiments = [] # to save the results\n",
        "\n",
        "for n_acopios_val in [5, 10, 15]:\n",
        "\n",
        "  # Create the instance\n",
        "  parameters['n_acopios'] = n_acopios_val # Change the value of n_acopios\n",
        "  instance = utils.create_instance(parameters) # create the instance again\n",
        "\n",
        "  # Run optimization\n",
        "  model = create_model(instance)\n",
        "  model.optimize()\n",
        "\n",
        "  # Get results\n",
        "  if model.status == GRB.OPTIMAL:\n",
        "    experiments.append([n_acopios_val, model.ObjVal])\n",
        "  else:\n",
        "    print(\"Optimization was not successful\")\n"
      ]
    },
    {
      "cell_type": "markdown",
      "metadata": {
        "id": "weDp_8SY0vjo"
      },
      "source": [
        "Asumiendo que solo guaradamos el valor del parámetro n_acopios y el rescpectivo valor de la función objetivo. Tendríamos\n",
        "\n"
      ]
    },
    {
      "cell_type": "code",
      "execution_count": null,
      "metadata": {
        "id": "0EJt9Max0x3J"
      },
      "outputs": [],
      "source": [
        "df_resultados = pd.DataFrame(experiments, columns=['n_acopios', 'utilidad'])\n",
        "df_resultados"
      ]
    },
    {
      "cell_type": "markdown",
      "metadata": {
        "id": "FalvBQft1GVz"
      },
      "source": [
        "Nota que igual podrías requerir guardar mucha más información sobre cada corrida. Para eso usuarias las funciones que ya creamos anteriromente para extraer la solución"
      ]
    }
  ],
  "metadata": {
    "colab": {
      "provenance": [],
      "toc_visible": true,
      "include_colab_link": true
    },
    "kernelspec": {
      "display_name": "Python 3 (ipykernel)",
      "language": "python",
      "name": "python3"
    },
    "language_info": {
      "codemirror_mode": {
        "name": "ipython",
        "version": 3
      },
      "file_extension": ".py",
      "mimetype": "text/x-python",
      "name": "python",
      "nbconvert_exporter": "python",
      "pygments_lexer": "ipython3",
      "version": "3.11.5"
    }
  },
  "nbformat": 4,
  "nbformat_minor": 0
}