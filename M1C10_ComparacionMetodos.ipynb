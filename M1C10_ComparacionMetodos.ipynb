{
  "nbformat": 4,
  "nbformat_minor": 0,
  "metadata": {
    "colab": {
      "provenance": [],
      "authorship_tag": "ABX9TyMgsK9vsYEcHkXMbF0bORPk",
      "include_colab_link": true
    },
    "kernelspec": {
      "name": "python3",
      "display_name": "Python 3"
    },
    "language_info": {
      "name": "python"
    }
  },
  "cells": [
    {
      "cell_type": "markdown",
      "metadata": {
        "id": "view-in-github",
        "colab_type": "text"
      },
      "source": [
        "<a href=\"https://colab.research.google.com/github/endorgobio/2024_returnability/blob/main/M1C10_ComparacionMetodos.ipynb\" target=\"_parent\"><img src=\"https://colab.research.google.com/assets/colab-badge.svg\" alt=\"Open In Colab\"/></a>"
      ]
    },
    {
      "cell_type": "markdown",
      "source": [
        "<p style=\"text-align: center;\">\n",
        "    <img alt=\"banner\" height=\"230px\" width=\"100%\" src=\"https://github.com/endorgobio/IntroduccionAnaliticaPrescriptiva/blob/6cc6029c276aacdf228dcec4796b7b3184cfb8b7/src/header.png?raw=true\" hspace=\"10px\" vspace=\"0px\">\n",
        "</p>\n"
      ],
      "metadata": {
        "id": "de0mGKwY-Gn3"
      }
    },
    {
      "cell_type": "markdown",
      "source": [
        "\n",
        "En esta sesión, presentamos una solución al problema de programación de pedidos utilizando un modelo de optimización matemática. De momento, no ahondaremos en la estructura del modelo y sus principales componentes. Sin embargo, en este notebook encontrarás los recursos necesarios para experimentar con el modelo y explorar en detalle su implementación. ¡Una excelente oportunidad para aplicar teoría y práctica en un enfoque matemático riguroso!"
      ],
      "metadata": {
        "id": "qHDn7PhQBdHc"
      }
    },
    {
      "cell_type": "markdown",
      "source": [
        "# <font color='FD6E72'> **Nuestro primer modelo** </font>\n",
        "\n",
        "Una compañía de alimentos tiene una única línea de producción que procesa un único producto. El plan de demanda semanal contiene las órdenes de los clientes (en miles de unidades) y la utilidad (en miles de dolares) que cada una de ellas genera.\n",
        "\n",
        "Las órdenes no pueden fraccionarse, por lo que cada una de ellas se produce completa o no se produce. Dado que la usualmente la capacidad de la línea no es suficiente para satisfacer todas las ordenes, debe decidirse qué producir\n",
        "\n",
        "|        | Orden 1 | Orden 2 | Orden 3 | Orden 4 | Orden 5 | Orden 6 | Orden 7 | Orden 8 | Orden 9 | Orden 10 |\n",
        "|--------|---------|---------|---------|---------|---------|---------|---------|---------|---------|----------|\n",
        "| Cantidad |   16    |   29    |   24    |   20    |   17    |   30    |   32    |   28    |   20    |    20    |\n",
        "| Utilidad  |   73    |   85    |   89    |   73    |   52    |   71    |   102    |   73    |   93    |    79    |\n",
        "\n",
        "\n",
        "> **¿Cuáles de las ordenes deben producirse?**\n",
        "\n",
        "\n",
        "\n"
      ],
      "metadata": {
        "id": "TjmjdhCMvRxc"
      }
    },
    {
      "cell_type": "markdown",
      "source": [
        "## <font color='#ff6d33'> **Una primera solución** </font>\n",
        "\n",
        "Lo primero que podemos hacer es pensar en una solución basda en el sentido en nuestra intuición.\n",
        "\n",
        "\n",
        "<font color='85a900'>**Pregunta:** </font> ¿Cómo construiria una solución para el problema planteado?\n",
        "\n",
        "\n",
        "\n",
        "\n"
      ],
      "metadata": {
        "id": "42o7Y5Qs88dy"
      }
    },
    {
      "cell_type": "markdown",
      "source": [
        "Este tipo de soluciones se denominan usualmente **heurísticas**. Proveen soluciones rápidas y en algunos casos de calidad aceptable para el problema planteado. Las heuristicas tienen entre otras las siguientes características:\n",
        "\n",
        "\n",
        "* Encuentran una solución de forma rápida\n",
        "* Depende del conocieminto del problema que se resuelve\n",
        "* Por lo general, no tienen garantia de encontrar la mejor solución\n",
        "\n"
      ],
      "metadata": {
        "id": "rHF00ckWgAHZ"
      }
    },
    {
      "cell_type": "markdown",
      "source": [
        "El problema descrito es un caso particular del problema de la mochila (*knapsack problem*) que ha recibido mucha atención en la literatura."
      ],
      "metadata": {
        "id": "aKHGVFgpXkP1"
      }
    },
    {
      "cell_type": "markdown",
      "source": [
        "### <font color='85a900'>**Heurística voraz (`greedy`)** </font>"
      ],
      "metadata": {
        "id": "7-wkpiqIggxZ"
      }
    },
    {
      "cell_type": "markdown",
      "source": [
        "1. **Calcular el Ratio Utilidad/Cantidad:**\n",
        "\n",
        "  Calcula el ratio de valor a peso para cada pedido. Este ratio indica cuánta utilidad proporciona un pedido por cada unidad demandada.\n",
        "\n",
        "\n",
        "2. **Ordenar los pedidos por Ratio:**\n",
        "   \n",
        "   Ordena los pedidos en orden descendente basado en su ratio Utilidad/Cantidad. El objetivo es priorizar los pedidos que ofrecen el mayor utilidad por la menor cantidad.\n",
        "\n",
        "\n",
        "3. **Seleccionar pedidos:**\n",
        "   \n",
        "   Itera a través de los pedidos en el orden de sus ratios ordenados Para cada pedido, verifica si agregar la cantidad del pedido a la producción total actual excedería la capacidad de la línea.\n",
        "   * Si no excede la capacidad, agrega el pedido a la lista de pedidos seleccionados.\n",
        "   * Actualiza el utilidad total y la producción total para incluir el pedido recién seleccionado.\n",
        "\n",
        "\n",
        "4. **Devolver Resultados:**\n",
        "  \n",
        "  Después de procesar todos los pedidos o copar la capacidad de producción máxima, devuelve la lista de pedidos seleccionados, la utilidad total y la cantidad totalproducida."
      ],
      "metadata": {
        "id": "ILn03Z3sfpNL"
      }
    },
    {
      "cell_type": "markdown",
      "source": [
        "Aplicando esta heuristica el problema propuesto obtendriamos primero la tabla con las razones de utilidad sobre la cantidad\n",
        "\n",
        "\n",
        "\n",
        "|            | Orden 1 | Orden 2 | Orden 3 | Orden 4 | Orden 5 | Orden 6 | Orden 7 | Orden 8 | Orden 9 | Orden 10 |\n",
        "|------------|---------|---------|---------|---------|---------|---------|---------|---------|---------|----------|\n",
        "| Cantidad   |   16    |   29    |   24    |   20    |   17    |   30    |   32    |   28    |   20    |    20    |\n",
        "| Utilidad   |   73    |   85    |   89    |   73    |   52    |   71    |   102    |   73    |   93    |    79    |\n",
        "| Razón (U/C)|  4.56   |  2.93   |  3.71   |  3.65   |  3.06   |  2.37   |  3.19   |  2.61   |  4.65   |   3.95   |\n",
        "\n",
        "Con esto obtenemos el orden en el cual debe evaluarse la producción de los items\n",
        "\n",
        "\n",
        "\n",
        "> ```python\n",
        "[9, 1, 10, 3, 4, 7, 5, 8, 2, 6]\n",
        "```\n",
        "\n",
        "\n",
        "\n"
      ],
      "metadata": {
        "id": "u3vm7FeXgsMh"
      }
    },
    {
      "cell_type": "markdown",
      "source": [
        "Siguiendo los pasos para decidir cuando producir o no un pedido tendriamos:\n",
        "* se producen los pedidos `[9, 1, 10, 3, 4]`\n",
        "* La utilidad total es: `407`\n",
        "* La capacidad usada es: `100`\n",
        "\n"
      ],
      "metadata": {
        "id": "5qeCGx5Akt4g"
      }
    },
    {
      "cell_type": "markdown",
      "source": [
        "### <font color='85a900'>**Implementación de la heurística** </font>"
      ],
      "metadata": {
        "id": "oATIGRMWmKs2"
      }
    },
    {
      "cell_type": "markdown",
      "source": [
        "La siguiente función implementa el algoritmo heurístico propuesto para dar solución al problema"
      ],
      "metadata": {
        "id": "lCyNj2vymElY"
      }
    },
    {
      "cell_type": "code",
      "source": [
        "import numpy as np\n",
        "\n",
        "def knapsack_greedy(weights, values, capacity):\n",
        "    \"\"\"\n",
        "    Solve the knapsack problem using a greedy approach based on value-to-weight ratio.\n",
        "\n",
        "    Parameters:\n",
        "        weights (np.ndarray): Array of item weights.\n",
        "        values (np.ndarray): Array of item values.\n",
        "        capacity (int): Maximum capacity of the knapsack.\n",
        "\n",
        "    Returns:\n",
        "        selected_items (list): List of indices of selected items.\n",
        "        total_value (int): Total value of selected items.\n",
        "        total_weight (int): Total weight of selected items.\n",
        "    \"\"\"\n",
        "    # Calculate value-to-weight ratio for each item\n",
        "    ratios = values / weights\n",
        "\n",
        "    # Get indices that would sort the items based on ratio in ascending order\n",
        "    sorted_indices = np.argsort(ratios)[::-1]\n",
        "\n",
        "    total_value = 0\n",
        "    total_weight = 0\n",
        "    selected_items = []\n",
        "\n",
        "    # Select items based on sorted ratios\n",
        "    for i in sorted_indices:\n",
        "        if total_weight + weights[i] <= capacity:\n",
        "            selected_items.append(i)\n",
        "            total_value += values[i]\n",
        "            total_weight += weights[i]\n",
        "\n",
        "    selected_items = [item+1 for item in selected_items]\n",
        "    return selected_items, total_value, total_weight\n",
        "\n",
        "\n"
      ],
      "metadata": {
        "id": "wf4Kt3wD1rIl"
      },
      "execution_count": null,
      "outputs": []
    },
    {
      "cell_type": "markdown",
      "source": [
        "Empleemos la función para resolver la instancia del problema que se presenta en el caso de estudio"
      ],
      "metadata": {
        "id": "KKEtIB4vW012"
      }
    },
    {
      "cell_type": "code",
      "source": [
        "# Example usage\n",
        "weights = np.array([16, 29, 24, 20, 17, 30, 32, 28, 20, 20])\n",
        "values = np.array([73, 85, 89, 73, 52, 71, 102, 73, 93, 79])\n",
        "capacity = 110\n",
        "\n",
        "selected_items, total_value, total_weight = knapsack_greedy(weights, values, capacity)\n",
        "\n",
        "print(\"Items seleccionados:\", selected_items)\n",
        "print(\"Utilidad total:\", total_value)\n",
        "print(\"Capacidad usada:\", total_weight)"
      ],
      "metadata": {
        "id": "5ySNGZbHWyPy"
      },
      "execution_count": null,
      "outputs": []
    },
    {
      "cell_type": "markdown",
      "source": [
        "## <font color='#ff6d33'> **Modelo matemático** </font>"
      ],
      "metadata": {
        "id": "D6GqUDY0m3Qv"
      }
    },
    {
      "cell_type": "markdown",
      "source": [
        "### <font color='85a900'> **Formulación** </font>\n",
        "\n",
        "Es posible modelar este problema mediante expresiones mátematicas:\n",
        "\n",
        "Primero consideremos las decisiones, Para cada pedido $i$ debe decidirse si se produce o no:\n",
        "\n",
        "> $x_i =\n",
        "\\begin{cases}\n",
        "1 & \\text{se produce el pedido } i , \\\\\n",
        "0 & \\text{no se produce el pedido } i\n",
        "\\end{cases}$\n",
        "\n",
        "Nuestro objetivo es máximizar la utilidad\n",
        "> $\\text{Maximizar} \\quad  Z = 73x_1 + 85x_2 + 89x_3 + 73x_4 + 52x_5 + 71x_6 + 51x_7 + 73x_8 + 93x_9 + 79x_{10}$\n",
        "\n",
        "No debe sobrepasarse la capacidad de la linea\n",
        "> $16x_1 + 29x_2 + 24x_3 + 20x_4 + 17x_5 + 30x_6 + 32x_7 + 28x_8 + 20x_9 + 20x_{10} \\leq 110$\n",
        "\n"
      ],
      "metadata": {
        "id": "rYWA7UxWnKmw"
      }
    },
    {
      "cell_type": "markdown",
      "source": [
        "En una forma más compacta (que de momento no detallaremos) podria escribirse como:"
      ],
      "metadata": {
        "id": "oFdOaHNyoOIS"
      }
    },
    {
      "cell_type": "markdown",
      "source": [
        "\n",
        "\n",
        "> $x_i =\n",
        "\\begin{cases}\n",
        "1 & \\text{se produce el pedido } i , \\\\\n",
        "0 & \\text{no se produce el pedido } i\n",
        "\\end{cases}$"
      ],
      "metadata": {
        "id": "QHjEKHbW74Lj"
      }
    },
    {
      "cell_type": "markdown",
      "source": [
        "\\begin{align}\n",
        "    \\text{Maximizar} \\quad & Z = \\sum_{i \\in I} v_i x_i \\\\\n",
        "    \\text{Subjeto a}\\\\\n",
        "    & \\sum_{i \\in I} w_i x_i \\leq C \\\\\n",
        "    & x_i \\in \\{0, 1\\} \\quad \\forall i \\in I\n",
        "\\end{align}"
      ],
      "metadata": {
        "id": "dsg3SZOZ8fD5"
      }
    },
    {
      "cell_type": "markdown",
      "source": [
        "### <font color='85a900'> **Implementación** </font>"
      ],
      "metadata": {
        "id": "WUgX0ClmoYPF"
      }
    },
    {
      "cell_type": "markdown",
      "source": [
        "El modelo se implementa en un **lenguaje de modelación** y se resuelve haciendo uso de un **optimizador**. En este caso usaremos `pyomo` y `highspy`, respectivamente"
      ],
      "metadata": {
        "id": "MA3Ri8oyokOG"
      }
    },
    {
      "cell_type": "code",
      "source": [
        "!pip install pyomo\n",
        "!pip install highspy\n",
        "import numpy as np"
      ],
      "metadata": {
        "id": "z6udApy-5MOZ"
      },
      "execution_count": null,
      "outputs": []
    },
    {
      "cell_type": "markdown",
      "source": [
        "La siguiente función crea el modelo matemático descrito anteriormente"
      ],
      "metadata": {
        "id": "q-tqjN2Cbkft"
      }
    },
    {
      "cell_type": "code",
      "source": [
        "from pyomo.environ import ConcreteModel, Var, Objective, Constraint, SolverFactory, Binary, sum_product\n",
        "\n",
        "def create_knapsack_model(weights, values, capacity):\n",
        "    \"\"\"\n",
        "    Create and solve a knapsack problem model using Pyomo.\n",
        "\n",
        "    Parameters:\n",
        "        weights (list): List of item weights.\n",
        "        values (list): List of item values.\n",
        "        capacity (int): Maximum capacity of the knapsack.\n",
        "\n",
        "    Returns:\n",
        "        model (ConcreteModel): The Pyomo model.\n",
        "        results (SolverResults): The results from the solver.\n",
        "    \"\"\"\n",
        "    # Create a concrete model\n",
        "    model = ConcreteModel()\n",
        "\n",
        "    # Number of items\n",
        "    n = len(weights)\n",
        "\n",
        "    # Define sets\n",
        "    model.I = range(n)\n",
        "\n",
        "    # Define variables\n",
        "    model.x = Var(model.I, domain=Binary)\n",
        "\n",
        "    # Objective: Maximize the total value\n",
        "    model.obj = Objective(\n",
        "        expr=sum(model.x[i] * values[i] for i in model.I),\n",
        "        sense='maximize'\n",
        "    )\n",
        "\n",
        "    # Constraint: Total weight should not exceed the capacity\n",
        "    model.capacity_constraint = Constraint(\n",
        "        expr=sum(model.x[i] * weights[i] for i in model.I) <= capacity\n",
        "    )\n",
        "\n",
        "    # Create a solver\n",
        "    solver = SolverFactory('appsi_highs')\n",
        "    results = solver.solve(model, tee=False)\n",
        "\n",
        "    return model, results\n",
        "\n",
        "\n"
      ],
      "metadata": {
        "id": "0pNeYeTK5JnI"
      },
      "execution_count": null,
      "outputs": []
    },
    {
      "cell_type": "markdown",
      "source": [
        "Resolvamos la instancia con los datos que venomos considerando"
      ],
      "metadata": {
        "id": "Z102sPkUox_W"
      }
    },
    {
      "cell_type": "code",
      "source": [
        "# Example usage\n",
        "\n",
        "weights = np.array([16, 29, 24, 20, 17, 30, 32, 28, 20, 20])\n",
        "values = np.array([73, 85, 89, 73, 52, 71, 102, 73, 93, 79])\n",
        "capacity = 110\n",
        "\n",
        "model, results = create_knapsack_model(weights, values, capacity)\n",
        "\n",
        "# Display results\n",
        "selected_items = [(i) for i in model.I if model.x[i].value == 1]\n",
        "capacidad_utilizada = sum(weights[i] for i in selected_items)\n",
        "\n",
        "print(\"Utilidad total:\", model.obj())\n",
        "print(\"Items seleccionados:\", selected_items)\n",
        "print(\"Capacidad utilizada:\", capacidad_utilizada)"
      ],
      "metadata": {
        "id": "Wqe8dobpoxIA"
      },
      "execution_count": null,
      "outputs": []
    },
    {
      "cell_type": "markdown",
      "source": [
        "## <font color='#ff6d33'> **Análisis de la solución** </font>"
      ],
      "metadata": {
        "id": "gRiUUUz--srY"
      }
    },
    {
      "cell_type": "markdown",
      "source": [
        "Ahora creamos una función que genere instancias aleatorias de este mismo problema"
      ],
      "metadata": {
        "id": "z4t4TYjHmckt"
      }
    },
    {
      "cell_type": "code",
      "source": [
        "import numpy as np\n",
        "\n",
        "import numpy as np\n",
        "np.random.seed(42)\n",
        "\n",
        "def generate_knapsack_instance(n_items, min_weight, max_weight, min_value, max_value, capacity_ratio):\n",
        "    \"\"\"\n",
        "    Generate a random instance for the knapsack problem.\n",
        "\n",
        "    Parameters:\n",
        "        n_items (int): Number of items.\n",
        "        min_weight (int): Minimum possible weight of an item.\n",
        "        max_weight (int): Maximum possible weight of an item.\n",
        "        min_value (int): Minimum possible value of an item.\n",
        "        max_value (int): Maximum possible value of an item.\n",
        "        capacity_ratio (float): Ratio of total weight sum to knapsack capacity (0 < capacity_ratio <= 1).\n",
        "\n",
        "    Returns:\n",
        "        weights (np.ndarray): Array of item weights.\n",
        "        values (np.ndarray): Array of item values.\n",
        "        capacity (int): Knapsack capacity.\n",
        "    \"\"\"\n",
        "    # Generate random weights and values for the items within the given range\n",
        "    weights = np.random.randint(min_weight, max_weight + 1, size=n_items)\n",
        "    values = np.random.randint(min_value, max_value + 1, size=n_items)\n",
        "\n",
        "    # Define the knapsack capacity as a fraction of the sum of the weights\n",
        "    capacity = int(np.sum(weights) * capacity_ratio)\n",
        "\n",
        "    return weights, values, capacity\n",
        "\n",
        "# Example usage\n",
        "n_items = 10\n",
        "min_weight = 10\n",
        "max_weight = 30\n",
        "min_value = 50\n",
        "max_value = 100\n",
        "capacity_ratio = 0.5\n",
        "\n",
        "weights, values, capacity = generate_knapsack_instance(n_items, min_weight, max_weight, min_value, max_value, capacity_ratio)\n",
        "\n",
        "print(\"Weights:\", weights)\n",
        "print(\"Values:\", values)\n",
        "print(\"Capacity:\", capacity)\n",
        "\n"
      ],
      "metadata": {
        "id": "kQCAX_0_w2Xu"
      },
      "execution_count": null,
      "outputs": []
    },
    {
      "cell_type": "markdown",
      "source": [
        "Generemos `200` replicas del problema y comparemos que tan buena es la solución que provee el heuristico respecto al modelo exacto. Para ello calculamos la diferencis porcentual entre las soluciones de cada método, denominada `gap`:\n",
        "\n",
        "> $gap = 100*\\dfrac{opt-heur}{opt}$"
      ],
      "metadata": {
        "id": "jUKBBwnxpLsj"
      }
    },
    {
      "cell_type": "code",
      "source": [
        "import numpy as np\n",
        "import pandas as pd\n",
        "np.random.seed(42)\n",
        "\n",
        "min_weight = 10\n",
        "max_weight = 100\n",
        "min_value = 50\n",
        "max_value = 200\n",
        "\n",
        "n_replicas = 200\n",
        "\n",
        "data  = []\n",
        "\n",
        "for n_iter in range(n_replicas):\n",
        "  n_items = np.random.choice([10, 50, 100, 250, 500])\n",
        "  capacity_ratio = np.random.uniform(0.2, 0.7)\n",
        "  weights, values, capacity = generate_knapsack_instance(n_items, min_weight, max_weight, min_value, max_value, capacity_ratio)\n",
        "  selected_items, total_value, total_weight = knapsack_greedy(weights, values, capacity)\n",
        "  model, results = create_knapsack_model(weights, values, capacity)# Display results\n",
        "  optimal_value = model.obj()\n",
        "\n",
        "  data.append([n_items, total_value, optimal_value])\n",
        "\n",
        "df = pd.DataFrame(data, columns=['n_items', 'total_value', 'optimal_value'])\n",
        "df['gap'] = ( df['optimal_value']-df['total_value']) / df['optimal_value'] * 100\n",
        "df['name']='gap'\n",
        "df"
      ],
      "metadata": {
        "id": "X7iInFbV-ylK"
      },
      "execution_count": null,
      "outputs": []
    },
    {
      "cell_type": "markdown",
      "source": [
        "veamos gráficamente las diferencias"
      ],
      "metadata": {
        "id": "vFqEs6Wxptrj"
      }
    },
    {
      "cell_type": "code",
      "source": [
        "import plotly.express as px\n",
        "import plotly.graph_objects as go\n",
        "\n",
        "fig = go.Figure()\n",
        "\n",
        "legend_order = df['n_items'].unique().tolist()\n",
        "legend_order = sorted(legend_order)\n",
        "\n",
        "# Create a strip plot\n",
        "strip = px.strip(df,\n",
        "         x='name',\n",
        "         y='gap',\n",
        "         color='n_items',\n",
        "         category_orders={'n_items': legend_order},\n",
        "         stripmode='overlay')\n",
        "\n",
        "fig.add_trace(go.Box(x=df['name'],\n",
        "                     y=df['gap'],\n",
        "                     fillcolor='rgba(128, 128, 128, 0.2)',  # Grey color with transparency\n",
        "                      line=dict(color='rgba(128, 128, 128, 0.8)'),  # Grey color with different opacity for the border\n",
        "                     showlegend=False))\n",
        "for i in range(len(strip.data)):\n",
        "  fig.add_trace(strip.data[i])\n",
        "\n",
        "fig.update_layout(autosize=False,\n",
        "                  title = \"GAP heurístico vs modelo exacto para cada tamaño de instancia\",\n",
        "                  width=600,\n",
        "                  height=600,\n",
        "                  legend={'traceorder':'normal'})\n",
        "\n",
        "fig.show()"
      ],
      "metadata": {
        "id": "zgZUxFkNCyvL"
      },
      "execution_count": null,
      "outputs": []
    },
    {
      "cell_type": "markdown",
      "source": [
        "## <font color='#ff6d33'> **Conclusiones** </font>\n",
        "\n",
        "---\n",
        "**¿Qué es posible concluir de los resultados obeservados?**\n",
        "\n",
        "\n",
        "---\n",
        "\n",
        "\n",
        "\n"
      ],
      "metadata": {
        "id": "7TLgIXXejClh"
      }
    }
  ]
}